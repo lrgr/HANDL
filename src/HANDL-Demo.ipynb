{
 "cells": [
  {
   "cell_type": "markdown",
   "metadata": {},
   "source": [
    "# HANDL \n",
    "\n",
    "The goal of HANDL is to support the transfer of biological knowledge across species.  It does so by constructing explicit measures of functional similarity between proteins in different species.   HANDL (Homology Assessment across Networks using Diffusion and Landmarks) creates a functional embedding in which proteins from different species are embedded in the same vector space. In the paper [1] it is shown that inner products in this space _(HANDL homology scores)_, as well as the vectors themselves _(HANDL embeddings)_, capture functional similarity across species and are useful for a variety of functional tasks.\n",
    "\n",
    "[1] [A Multi-Species Functional Embedding Integrating Sequence and\n",
    "Network Structure](https://www.biorxiv.org/content/early/2017/12/04/229211), Mark D.M. Leiserson, Jason Fan, Anthony Cannistra, Inbar Fried, Tim Lim, Thomas Schaffner, Mark Crovella, and Benjamin Hescott, _Proceedings of RECOMB 2018,_ Paris, France.\n",
    "\n",
    "## Background\n",
    "\n",
    "An overview of HANDL is shown in the figure below.  Starting with a source and a target network, HANDL computes diffusion kernels for each network. The diffusion kernels are factored, resulting in a representation in which each node becomes a vector, and inner products correlate with functional similarities. HANDL then solves a linear system to create a single embedding of both vector sets, allowing for functional comparisons between proteins across the two networks.\n",
    "\n",
    "![HANDL Overview](figures/handl-methods.jpg)\n",
    "\n",
    "As shown in the figure, HANDL works with the notion of a _source_ species and one or more _target_ species.  The proteins of the target species are embedded into a space defined by the source species.\n",
    "\n",
    "## This workbook\n",
    "\n",
    "This workbook illustrates how to compute HANDL embeddings and HANDL homology scores as described in [1].  As a demonsration, we compute functional similarity between proteins in _S. cerevisiae_ (Sc) and _S. pombe_ (Sp)."
   ]
  },
  {
   "cell_type": "markdown",
   "metadata": {},
   "source": [
    "## Configuration \n",
    "\n",
    "This workbook assumes that the [HANDL demo repository](https://github.com/theJasonFan/HANDL) has been downloaded, and that data has been retrieved and prepared as described in the __Data__ section of the [README](https://github.com/theJasonFan/HANDL/blob/master/README.md)."
   ]
  },
  {
   "cell_type": "code",
   "execution_count": 1,
   "metadata": {
    "collapsed": true
   },
   "outputs": [],
   "source": [
    "import numpy as np\n",
    "import networkx as nx\n",
    "import scipy\n",
    "import sklearn\n",
    "import sklearn.neighbors\n",
    "import matplotlib.pyplot as plt"
   ]
  },
  {
   "cell_type": "markdown",
   "metadata": {},
   "source": [
    "Some of the functions we will use are in associated libraries."
   ]
  },
  {
   "cell_type": "code",
   "execution_count": 2,
   "metadata": {
    "collapsed": true
   },
   "outputs": [],
   "source": [
    "import util\n",
    "from network import regularized_laplacian, rkhs_factor"
   ]
  },
  {
   "cell_type": "markdown",
   "metadata": {},
   "source": [
    "Configuration parameters:\n",
    "* `source`: Source species\n",
    "* `target`: Target species\n",
    "* `lam`: Value of $\\lambda$ used in computing the Regularized Laplacian\n",
    "* `data_dir`: Directory holding all data\n",
    "* `n_landmarks`: Number of landmarks to use in constructing the embedding "
   ]
  },
  {
   "cell_type": "code",
   "execution_count": 48,
   "metadata": {
    "collapsed": true
   },
   "outputs": [],
   "source": [
    "source = 'sc'\n",
    "target = 'sp'\n",
    "lam = 0.05\n",
    "data_dir = '../data'\n",
    "n_landmarks = 400"
   ]
  },
  {
   "cell_type": "markdown",
   "metadata": {},
   "source": [
    "## HANDL embedding\n",
    "\n",
    "The first stage of the HANDL embedding involves the following steps:\n",
    "\n",
    "1. Construct PPI networks for source and target species\n",
    "2. Reduce each network to its 2-core (see paper for explanation).\n",
    "3. Compute the Laplacian $L$ and Regularized Laplacian $D = (I + \\lambda L)^{-1}$ for each species.\n",
    "4. Factor the Regularized Laplacian to get HANDL embedding vectors $D = CC^T$."
   ]
  },
  {
   "cell_type": "code",
   "execution_count": 49,
   "metadata": {},
   "outputs": [
    {
     "name": "stderr",
     "output_type": "stream",
     "text": [
      "2017-12-23 15:20:43,212 util.py         INFO      : PPI info - # Nodes: 5893, # Edges: 492146\n",
      "2017-12-23 15:20:43,213 util.py         INFO      : Computing 2 core\n",
      "2017-12-23 15:20:45,953 util.py         INFO      : 2 core info - # Nodes: 5865, # Edges: 492118\n",
      "2017-12-23 15:20:45,954 util.py         INFO      : 2 core removed 28 nodes and 28 edges\n",
      "2017-12-23 15:21:17,484 util.py         WARNING   : Network has 36 connected components\n",
      "2017-12-23 15:21:17,484 util.py         WARNING   : \tLargest is size 4012 and all the rest are 3 or smaller\n",
      "2017-12-23 15:21:17,485 util.py         WARNING   : \tUsing largest connected component\n",
      "2017-12-23 15:21:17,489 util.py         INFO      : PPI info - # Nodes: 4012, # Edges: 55312\n",
      "2017-12-23 15:21:17,490 util.py         INFO      : Computing 2 core\n",
      "2017-12-23 15:21:17,802 util.py         INFO      : 2 core info - # Nodes: 3529, # Edges: 54829\n",
      "2017-12-23 15:21:17,803 util.py         INFO      : 2 core removed 483 nodes and 483 edges\n"
     ]
    }
   ],
   "source": [
    "nodes = {}\n",
    "D = {}\n",
    "C = {}\n",
    "for species in [source, target]:\n",
    "    ppi_edgelist = '{}/ppi/biogrid/{}/biogrid-{}-std-network.txt'.format(\n",
    "        data_dir, species, species)\n",
    "    G = nx.read_edgelist(ppi_edgelist, encoding='ascii')\n",
    "    G = util.simple_two_core(G)\n",
    "    nodes[species] = sorted(G.nodes())\n",
    "    L = np.array(nx.laplacian_matrix(G, nodelist=nodes[species]).todense())\n",
    "    D[species] = regularized_laplacian(L, lam)\n",
    "    C[species] = rkhs_factor(D[species])"
   ]
  },
  {
   "cell_type": "markdown",
   "metadata": {},
   "source": [
    "The second stage of the HANDL embedding uses known homologs between the two species.  First we read in the set of all known homologs."
   ]
  },
  {
   "cell_type": "code",
   "execution_count": 50,
   "metadata": {},
   "outputs": [],
   "source": [
    "# assume the order in homolog file is source node, target node\n",
    "homolog_list = '{}/homologs/sc-sp/sc-sp-homologs.txt'.format(\n",
    "    data_dir)\n",
    "source_homs = []\n",
    "target_homs = []\n",
    "with open(homolog_list, 'r') as hom_f:\n",
    "    for line in hom_f:\n",
    "        source_hom, target_hom = line.split()\n",
    "        if (source_hom in nodes[source]) and (target_hom in nodes[target]):\n",
    "            source_homs.append(source_hom)\n",
    "            target_homs.append(target_hom)"
   ]
  },
  {
   "cell_type": "markdown",
   "metadata": {
    "collapsed": true
   },
   "source": [
    "Next we choose a subset of homologs to use as landmarks.   In this case we simply take the initial `n_landmarks` (using no particular selection criterion)."
   ]
  },
  {
   "cell_type": "code",
   "execution_count": 51,
   "metadata": {
    "collapsed": true
   },
   "outputs": [],
   "source": [
    "source_homolog_indices = [nodes[source].index(node) for node in source_homs]\n",
    "target_homolog_indices = [nodes[target].index(node) for node in target_homs]\n",
    "source_landmarks = source_homs[:n_landmarks]\n",
    "target_landmarks = target_homs[:n_landmarks]\n",
    "\n",
    "source_landmark_indices = source_homolog_indices[:n_landmarks]\n",
    "source_non_landmark_indices = source_homolog_indices[n_landmarks:]\n",
    "target_landmark_indices = target_homolog_indices[:n_landmarks]\n",
    "target_non_landmark_indices = target_homolog_indices[n_landmarks:]"
   ]
  },
  {
   "cell_type": "markdown",
   "metadata": {},
   "source": [
    "Finally we construct the embedding of the target species in the source vector space.  As described in the paper, this is done by treating the diffusion scores to landmarks in the target species ($D_{2L}$) as if they applied to the landmarks in the source species.  This implies the linear system\n",
    "$$ D_{1L} = C_{1L} \\hat{C_2}^T $$\n",
    "which we solve via \n",
    "$$ \\hat{C_2}^T = C_{1L}^\\dagger D_{2L} $$\n",
    "yielding the embedding for the nodes in the target network $\\hat{C_2}^T$."
   ]
  },
  {
   "cell_type": "code",
   "execution_count": 52,
   "metadata": {},
   "outputs": [],
   "source": [
    "target_handl_C = np.linalg.pinv(C[source][source_landmark_indices,:]).dot(\n",
    "    D[target][target_landmark_indices,:])"
   ]
  },
  {
   "cell_type": "markdown",
   "metadata": {},
   "source": [
    "## HANDL homology scores\n",
    "\n",
    "Finally we construct the HANDL homology scores by simply taking the inner products of the corresponding embedding vectors:\n",
    "$$ D_{12} = C_1 \\hat{C_2}^T.$$"
   ]
  },
  {
   "cell_type": "code",
   "execution_count": 53,
   "metadata": {
    "collapsed": true
   },
   "outputs": [],
   "source": [
    "D_cross_species = C[source].dot(target_handl_C)"
   ]
  },
  {
   "cell_type": "markdown",
   "metadata": {},
   "source": [
    "## Plot homolog density\n",
    "\n",
    "As a demonstration, we show that homologs have distinct HANDL homology scores.   This plot corresponding to Figure 2(b) from [1]."
   ]
  },
  {
   "cell_type": "markdown",
   "metadata": {},
   "source": [
    "Plot parameters:"
   ]
  },
  {
   "cell_type": "code",
   "execution_count": 54,
   "metadata": {
    "collapsed": true
   },
   "outputs": [],
   "source": [
    "plot_lim = 0.6\n",
    "font_size = 12\n",
    "line_width = 2"
   ]
  },
  {
   "cell_type": "markdown",
   "metadata": {},
   "source": [
    "For visualization purposes we work with normalized dissimilarities:"
   ]
  },
  {
   "cell_type": "code",
   "execution_count": 55,
   "metadata": {
    "collapsed": true
   },
   "outputs": [],
   "source": [
    "Dissim = 1./D_cross_species\n",
    "Dissim = Dissim / np.mean(Dissim)"
   ]
  },
  {
   "cell_type": "markdown",
   "metadata": {},
   "source": [
    "We aren't interested in the homologs that were used as landmarks, so we remove those entries from the HANDL homology score matrix."
   ]
  },
  {
   "cell_type": "code",
   "execution_count": 56,
   "metadata": {
    "collapsed": true
   },
   "outputs": [],
   "source": [
    "source_valid = [r for r in range(Dissim.shape[0])\n",
    "                        if r not in source_landmark_indices]\n",
    "target_valid = [r for r in range(Dissim.shape[1])\n",
    "                        if r not in target_landmark_indices]\n",
    "Dissim = Dissim[source_valid][:,target_valid]"
   ]
  },
  {
   "cell_type": "code",
   "execution_count": 57,
   "metadata": {
    "collapsed": true
   },
   "outputs": [],
   "source": [
    "# update the names of rows and columns\n",
    "source_nodes = [n for i, n in enumerate(nodes[source]) if i in source_valid]\n",
    "target_nodes = [n for i, n in enumerate(nodes[target]) if i in target_valid]\n",
    "\n",
    "# update these indices as well\n",
    "source_non_landmark_indices = [source_nodes.index(node) for node in source_homs\n",
    "                                       if node not in source_landmarks]\n",
    "target_non_landmark_indices = [target_nodes.index(node) for node in target_homs\n",
    "                                       if node not in target_landmarks]\n",
    "    "
   ]
  },
  {
   "cell_type": "code",
   "execution_count": 58,
   "metadata": {
    "collapsed": true
   },
   "outputs": [],
   "source": [
    "# get HANDL scores for Non-landmark homologs\n",
    "NLH = Dissim [source_non_landmark_indices,target_non_landmark_indices]"
   ]
  },
  {
   "cell_type": "code",
   "execution_count": 59,
   "metadata": {
    "collapsed": true
   },
   "outputs": [],
   "source": [
    "# create kernel density estimator\n",
    "kde = sklearn.neighbors.KernelDensity(kernel='gaussian',\n",
    "                                              bandwidth = plot_lim / 20.)"
   ]
  },
  {
   "cell_type": "code",
   "execution_count": 60,
   "metadata": {
    "collapsed": true
   },
   "outputs": [],
   "source": [
    "# need to add another dimension as required by sklearn\n",
    "# arrays passed to kde must be 2-dimensional\n",
    "X_plot = np.reshape(np.linspace(0, plot_lim, 500), (-1, 1))"
   ]
  },
  {
   "cell_type": "code",
   "execution_count": 61,
   "metadata": {
    "collapsed": true
   },
   "outputs": [],
   "source": [
    "# Density of non-landmark homolog pairs\n",
    "kde.fit(np.reshape(np.ravel(NLH), (-1, 1)))\n",
    "NLHdens = kde.score_samples(X_plot)"
   ]
  },
  {
   "cell_type": "code",
   "execution_count": 62,
   "metadata": {
    "collapsed": true
   },
   "outputs": [],
   "source": [
    "# Density of all pairs\n",
    "Dsamp = np.random.choice(np.ravel(Dissim),100000)\n",
    "kde.fit(np.reshape(Dsamp, (-1, 1)))\n",
    "Ddens = kde.score_samples(X_plot)"
   ]
  },
  {
   "cell_type": "code",
   "execution_count": 63,
   "metadata": {
    "collapsed": true
   },
   "outputs": [],
   "source": [
    "%matplotlib inline"
   ]
  },
  {
   "cell_type": "code",
   "execution_count": 64,
   "metadata": {},
   "outputs": [
    {
     "data": {
      "image/png": "[encoded data removed]",
      "text/plain": [
       "<matplotlib.figure.Figure at 0x12576e0b8>"
      ]
     },
     "metadata": {},
     "output_type": "display_data"
    }
   ],
   "source": [
    "plt.plot(X_plot[:,0], np.exp(NLHdens), lw = line_width,\n",
    "                 label = 'Homolog Pairs')\n",
    "plt.plot(X_plot[:,0], np.exp(Ddens), '-.',\n",
    "                 lw = line_width, ls = (0,(5,2)), label = 'All Pairs')\n",
    "plt.ylabel('Density', size = font_size)\n",
    "plt.xlabel('HANDL dissimilarity', size = font_size)\n",
    "plt.title('Source species: {}, Target species: {}'.format(source, target))\n",
    "plt.legend(loc='best', fontsize = font_size);"
   ]
  }
 ],
 "metadata": {
  "kernelspec": {
   "display_name": "Python [default]",
   "language": "python",
   "name": "python3"
  },
  "language_info": {
   "codemirror_mode": {
    "name": "ipython",
    "version": 3
   },
   "file_extension": ".py",
   "mimetype": "text/x-python",
   "name": "python",
   "nbconvert_exporter": "python",
   "pygments_lexer": "ipython3",
   "version": "3.5.4"
  }
 },
 "nbformat": 4,
 "nbformat_minor": 2
}
