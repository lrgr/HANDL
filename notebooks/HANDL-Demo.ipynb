{
 "cells": [
  {
   "cell_type": "markdown",
   "metadata": {},
   "source": [
    "# HANDL \n",
    "\n",
    "The goal of HANDL is to support the transfer of biological knowledge across species.  It does so by constructing explicit measures of functional similarity between proteins in different species.   HANDL (Homology Assessment across Networks using Diffusion and Landmarks) creates a functional embedding in which proteins from different species are embedded in the same vector space. In the paper [1] it is shown that inner products in this space _(HANDL homology scores)_, as well as the vectors themselves _(HANDL embeddings)_, capture functional similarity across species and are useful for a variety of functional tasks.\n",
    "\n",
    "[1] [A Multi-Species Functional Embedding Integrating Sequence and\n",
    "Network Structure](https://www.biorxiv.org/content/early/2017/12/04/229211), Mark D.M. Leiserson, Jason Fan, Anthony Cannistra, Inbar Fried, Tim Lim, Thomas Schaffner, Mark Crovella, and Benjamin Hescott, _Proceedings of RECOMB 2018,_ Paris, France.\n",
    "\n",
    "## Background\n",
    "\n",
    "An overview of HANDL is shown in the figure below.  Starting with a source and a target network, HANDL computes diffusion kernels for each network. The diffusion kernels are factored, resulting in a representation in which each node becomes a vector, and inner products correlate with functional similarities. HANDL then solves a linear system to create a single embedding of both vector sets, allowing for functional comparisons between proteins across the two networks.\n",
    "\n",
    "![HANDL Overview](figures/handl-methods.jpg)\n",
    "\n",
    "As shown in the figure, HANDL works with the notion of a _source_ species and one or more _target_ species.  The proteins of the target species are embedded into a space defined by the source species.\n",
    "\n",
    "## This workbook\n",
    "\n",
    "This workbook illustrates how to compute HANDL embeddings and HANDL homology scores as described in [1].  As a demonsration, we compute functional similarity between proteins in _S. cerevisiae_ (Sc) and _S. pombe_ (Sp)."
   ]
  },
  {
   "cell_type": "markdown",
   "metadata": {},
   "source": [
    "## Configuration \n",
    "\n",
    "This workbook assumes that the [HANDL demo repository](https://github.com/theJasonFan/HANDL) has been downloaded, and that data has been retrieved and prepared as described in the __Data__ section of the [README](https://github.com/theJasonFan/HANDL/blob/master/README.md)."
   ]
  },
  {
   "cell_type": "code",
   "execution_count": 1,
   "metadata": {},
   "outputs": [],
   "source": [
    "import numpy as np\n",
    "import networkx as nx\n",
    "import scipy\n",
    "import sklearn\n",
    "import sklearn.neighbors\n",
    "import matplotlib.pyplot as plt\n",
    "\n",
    "%matplotlib inline"
   ]
  },
  {
   "cell_type": "markdown",
   "metadata": {},
   "source": [
    "Some of the functions we will use are in associated libraries."
   ]
  },
  {
   "cell_type": "code",
   "execution_count": 2,
   "metadata": {},
   "outputs": [],
   "source": [
    "import sys\n",
    "sys.path.append('../src')\n",
    "import util\n",
    "from network import regularized_laplacian, rkhs_factor"
   ]
  },
  {
   "cell_type": "markdown",
   "metadata": {},
   "source": [
    "Configuration parameters:\n",
    "* `source`: Source species\n",
    "* `target`: Target species\n",
    "* `lam`: Value of $\\lambda$ used in computing the Regularized Laplacian\n",
    "* `data_dir`: Directory holding all data\n",
    "* `n_landmarks`: Number of landmarks to use in constructing the embedding "
   ]
  },
  {
   "cell_type": "code",
   "execution_count": 3,
   "metadata": {},
   "outputs": [],
   "source": [
    "source = 'sc'\n",
    "target = 'sp'\n",
    "lam = 0.05\n",
    "data_dir = '../data'\n",
    "n_landmarks = 400"
   ]
  },
  {
   "cell_type": "markdown",
   "metadata": {},
   "source": [
    "## HANDL embedding\n",
    "\n",
    "The first stage of the HANDL embedding involves the following steps:\n",
    "\n",
    "1. Construct PPI networks for source and target species\n",
    "2. Reduce each network to its 2-core (see paper for explanation).\n",
    "3. Compute the Laplacian $L$ and Regularized Laplacian $D = (I + \\lambda L)^{-1}$ for each species.\n",
    "4. Factor the Regularized Laplacian to get HANDL embedding vectors $D = CC^T$."
   ]
  },
  {
   "cell_type": "code",
   "execution_count": 4,
   "metadata": {},
   "outputs": [
    {
     "name": "stderr",
     "output_type": "stream",
     "text": [
      "2018-02-12 15:09:35,882 util.py         INFO      : PPI info - # Nodes: 5751, # Edges: 96139\n",
      "2018-02-12 15:09:35,883 util.py         INFO      : Computing 2 core\n",
      "2018-02-12 15:09:37,711 util.py         INFO      : 2 core info - # Nodes: 5609, # Edges: 95997\n",
      "2018-02-12 15:09:37,717 util.py         INFO      : 2 core removed 142 nodes and 142 edges\n",
      "2018-02-12 15:11:58,235 util.py         WARNING   : Network has 109 connected components\n",
      "2018-02-12 15:11:58,237 util.py         WARNING   : \tLargest is size 2678 and all the rest are 6 or smaller\n",
      "2018-02-12 15:11:58,237 util.py         WARNING   : \tUsing largest connected component\n",
      "2018-02-12 15:11:58,246 util.py         INFO      : PPI info - # Nodes: 2678, # Edges: 8525\n",
      "2018-02-12 15:11:58,246 util.py         INFO      : Computing 2 core\n",
      "2018-02-12 15:11:58,373 util.py         INFO      : 2 core info - # Nodes: 1865, # Edges: 7712\n",
      "2018-02-12 15:11:58,374 util.py         INFO      : 2 core removed 813 nodes and 813 edges\n"
     ]
    }
   ],
   "source": [
    "nodes = {}\n",
    "D = {}\n",
    "C = {}\n",
    "\n",
    "for species in [source, target]:\n",
    "    ppi_edgelist = '{}/ppi/biogrid/{}/{}-biogrid.v3.4.157-ppi-std.tsv'.format(\n",
    "        data_dir, species, species)\n",
    "    G = nx.read_edgelist(ppi_edgelist, encoding='ascii')\n",
    "    G = util.simple_two_core(G)\n",
    "    nodes[species] = sorted(G.nodes())\n",
    "    L = np.array(nx.laplacian_matrix(G, nodelist=nodes[species]).todense())\n",
    "    D[species] = regularized_laplacian(L, lam)\n",
    "    C[species] = rkhs_factor(D[species])"
   ]
  },
  {
   "cell_type": "markdown",
   "metadata": {},
   "source": [
    "The second stage of the HANDL embedding uses known homologs between the two species.  First we read in the set of all known homologs."
   ]
  },
  {
   "cell_type": "code",
   "execution_count": 5,
   "metadata": {},
   "outputs": [],
   "source": [
    "# assume the order in homolog file is source node, target node\n",
    "homolog_list = '{}/homologs/sc-sp/sc-sp-homologs.txt'.format(\n",
    "    data_dir)\n",
    "source_homs = []\n",
    "target_homs = []\n",
    "with open(homolog_list, 'r') as hom_f:\n",
    "    for line in hom_f:\n",
    "        source_hom, target_hom = line.split()\n",
    "        if (source_hom in nodes[source]) and (target_hom in nodes[target]):\n",
    "            source_homs.append(source_hom)\n",
    "            target_homs.append(target_hom)"
   ]
  },
  {
   "cell_type": "markdown",
   "metadata": {
    "collapsed": true
   },
   "source": [
    "Next we choose a subset of homologs to use as landmarks.   In this case we simply take the initial `n_landmarks` (using no particular selection criterion)."
   ]
  },
  {
   "cell_type": "code",
   "execution_count": 6,
   "metadata": {},
   "outputs": [],
   "source": [
    "source_homolog_indices = [nodes[source].index(node) for node in source_homs]\n",
    "target_homolog_indices = [nodes[target].index(node) for node in target_homs]\n",
    "source_landmarks = source_homs[:n_landmarks]\n",
    "target_landmarks = target_homs[:n_landmarks]\n",
    "\n",
    "source_landmark_indices = source_homolog_indices[:n_landmarks]\n",
    "source_non_landmark_indices = source_homolog_indices[n_landmarks:]\n",
    "target_landmark_indices = target_homolog_indices[:n_landmarks]\n",
    "target_non_landmark_indices = target_homolog_indices[n_landmarks:]"
   ]
  },
  {
   "cell_type": "markdown",
   "metadata": {},
   "source": [
    "Finally we construct the embedding of the target species in the source vector space.  As described in the paper, this is done by treating the diffusion scores to landmarks in the target species ($D_{2L}$) as if they applied to the landmarks in the source species.  This implies the linear system\n",
    "$$ D_{2L} = C_{1L} \\hat{C_2}^T $$\n",
    "which we solve via \n",
    "$$ \\hat{C_2}^T = C_{1L}^\\dagger D_{2L} $$\n",
    "yielding the embedding for the nodes in the target network $\\hat{C_2}^T$."
   ]
  },
  {
   "cell_type": "code",
   "execution_count": 7,
   "metadata": {},
   "outputs": [],
   "source": [
    "target_handl_C = np.linalg.pinv(C[source][source_landmark_indices,:]).dot(\n",
    "    D[target][target_landmark_indices,:])"
   ]
  },
  {
   "cell_type": "markdown",
   "metadata": {},
   "source": [
    "## HANDL homology scores\n",
    "\n",
    "Finally we construct the HANDL homology scores by simply taking the inner products of the corresponding embedding vectors:\n",
    "$$ D_{12} = C_1 \\hat{C_2}^T.$$"
   ]
  },
  {
   "cell_type": "code",
   "execution_count": 8,
   "metadata": {},
   "outputs": [],
   "source": [
    "D_cross_species = C[source].dot(target_handl_C)"
   ]
  },
  {
   "cell_type": "markdown",
   "metadata": {},
   "source": [
    "## Plot homolog density\n",
    "\n",
    "As a demonstration, we show that homologs have distinct HANDL homology scores.   This plot corresponding to Figure 2(b) from [1]."
   ]
  },
  {
   "cell_type": "markdown",
   "metadata": {},
   "source": [
    "For visualization purposes we work with normalized dissimilarities:"
   ]
  },
  {
   "cell_type": "code",
   "execution_count": 9,
   "metadata": {},
   "outputs": [],
   "source": [
    "Dissim = 1./D_cross_species\n",
    "Dissim = Dissim / np.mean(Dissim)"
   ]
  },
  {
   "cell_type": "markdown",
   "metadata": {},
   "source": [
    "We aren't interested in the homologs that were used as landmarks, so we remove those entries from the HANDL homology score matrix."
   ]
  },
  {
   "cell_type": "code",
   "execution_count": 10,
   "metadata": {},
   "outputs": [],
   "source": [
    "def seperate_dissimilarity_scores(dissim_scores, \n",
    "                                  source_landmark_idxs, \n",
    "                                  source_NLH_idxs,\n",
    "                                  target_landmark_idxs,\n",
    "                                  target_NLH_idxs):\n",
    "    # Obtain non-landmark homolog scores\n",
    "    mask = np.zeros_like(dissim_scores, dtype=np.bool)\n",
    "    mask[source_NLH_idxs, target_NLH_idxs] = True\n",
    "    NLH_scores = dissim_scores[mask]\n",
    "    \n",
    "    # Obtain non-homolog scores, \n",
    "    # excluding all rows and columns corresponding to landmarks\n",
    "    mask = np.ones_like(dissim_scores, dtype=np.bool)\n",
    "    mask[source_landmark_idxs, :] = False\n",
    "    mask[:, target_landmark_idxs] = False\n",
    "    mask[source_NLH_idxs, target_NLH_idxs] = False\n",
    "    non_homolog_scores = dissim_scores[mask]\n",
    "\n",
    "    return NLH_scores, non_homolog_scores"
   ]
  },
  {
   "cell_type": "code",
   "execution_count": 11,
   "metadata": {},
   "outputs": [],
   "source": [
    "def plot(NLH, D, xmax=0.6, font_size=12, line_width=2):\n",
    "    from sklearn import neighbors\n",
    "    # create kernel density estimator\n",
    "    kde = neighbors.KernelDensity(kernel='gaussian',\n",
    "                                              bandwidth = xmax / 20.)\n",
    "    # need to add another dimension as required by sklearn\n",
    "    # arrays passed to kde must be 2-dimensional\n",
    "    X_plot = np.reshape(np.linspace(0, xmax, 500), (-1, 1))\n",
    "\n",
    "    # Density of non-landmark homolog pairs\n",
    "    kde.fit(np.reshape(np.ravel(NLH), (-1, 1)))\n",
    "    NLHdens = kde.score_samples(X_plot)\n",
    "\n",
    "    # Density of all pairs\n",
    "    Dsamp = np.random.choice(np.ravel(D),100000)\n",
    "    kde.fit(np.reshape(Dsamp, (-1, 1)))\n",
    "    Ddens = kde.score_samples(X_plot)\n",
    "\n",
    "    # create plot\n",
    "    plt.figure()\n",
    "    plt.plot(X_plot[:,0], np.exp(NLHdens), lw = line_width,\n",
    "                 label = 'Homolog Pairs')\n",
    "    plt.plot(X_plot[:,0], np.exp(Ddens), '-.',\n",
    "                 lw = line_width, ls = (0,(5,2)), label = 'Non-homolog Pairs')\n",
    "    plt.ylabel('Density', size = font_size)\n",
    "    plt.xlabel('HANDL dissimilarity', size = font_size)\n",
    "    plt.legend(loc='best', fontsize = font_size)"
   ]
  },
  {
   "cell_type": "code",
   "execution_count": 12,
   "metadata": {},
   "outputs": [],
   "source": [
    "NLH, Dissim = seperate_dissimilarity_scores(\n",
    "                Dissim, \n",
    "                source_landmark_indices,\n",
    "                source_non_landmark_indices,\n",
    "                target_landmark_indices,\n",
    "                target_non_landmark_indices)"
   ]
  },
  {
   "cell_type": "code",
   "execution_count": 13,
   "metadata": {},
   "outputs": [
    {
     "data": {
      "image/png": "[encoded data removed]",
      "text/plain": [
       "<matplotlib.figure.Figure at 0x7f3d7c2740b8>"
      ]
     },
     "metadata": {},
     "output_type": "display_data"
    }
   ],
   "source": [
    "plot(NLH, Dissim)"
   ]
  },
  {
   "cell_type": "code",
   "execution_count": 15,
   "metadata": {},
   "outputs": [],
   "source": [
    "import handl"
   ]
  },
  {
   "cell_type": "code",
   "execution_count": 16,
   "metadata": {},
   "outputs": [],
   "source": [
    "source_C, target_C_hat = handl.handl_embed_matrices(C[source], D[target], zip(source_landmark_indices, target_landmark_indices))"
   ]
  },
  {
   "cell_type": "code",
   "execution_count": 17,
   "metadata": {},
   "outputs": [
    {
     "data": {
      "image/png": "[encoded data removed]",
      "text/plain": [
       "<matplotlib.figure.Figure at 0x7f3d7d4b5f28>"
      ]
     },
     "metadata": {},
     "output_type": "display_data"
    }
   ],
   "source": [
    "D_xs = source_C.dot(target_C_hat.T)\n",
    "Dissim2 = 1./D_xs\n",
    "Dissim2 = Dissim2 / np.mean(Dissim2)\n",
    "NLH2, Dissim2 = seperate_dissimilarity_scores(\n",
    "                Dissim2, \n",
    "                source_landmark_indices,\n",
    "                source_non_landmark_indices,\n",
    "                target_landmark_indices,\n",
    "                target_non_landmark_indices)\n",
    "plot(NLH2, Dissim2)"
   ]
  },
  {
   "cell_type": "code",
   "execution_count": 18,
   "metadata": {},
   "outputs": [
    {
     "name": "stderr",
     "output_type": "stream",
     "text": [
      "2018-02-12 15:14:10,478 util.py         INFO      : PPI info - # Nodes: 5751, # Edges: 96139\n",
      "2018-02-12 15:14:10,479 util.py         INFO      : Computing 2 core\n",
      "2018-02-12 15:14:15,417 util.py         INFO      : 2 core info - # Nodes: 5609, # Edges: 95997\n",
      "2018-02-12 15:14:15,419 util.py         INFO      : 2 core removed 142 nodes and 142 edges\n",
      "2018-02-12 15:14:16,789 util.py         WARNING   : Network has 109 connected components\n",
      "2018-02-12 15:14:16,792 util.py         WARNING   : \tLargest is size 2678 and all the rest are 6 or smaller\n",
      "2018-02-12 15:14:16,794 util.py         WARNING   : \tUsing largest connected component\n",
      "2018-02-12 15:14:16,814 util.py         INFO      : PPI info - # Nodes: 2678, # Edges: 8525\n",
      "2018-02-12 15:14:16,817 util.py         INFO      : Computing 2 core\n",
      "2018-02-12 15:14:17,118 util.py         INFO      : 2 core info - # Nodes: 1865, # Edges: 7712\n",
      "2018-02-12 15:14:17,119 util.py         INFO      : 2 core removed 813 nodes and 813 edges\n"
     ]
    }
   ],
   "source": [
    "G = {}\n",
    "for species in [source, target]:\n",
    "    ppi_edgelist = '{}/ppi/biogrid/{}/{}-biogrid.v3.4.157-ppi-std.tsv'.format(\n",
    "        data_dir, species, species)\n",
    "    G[species] = util.simple_two_core(nx.read_edgelist(ppi_edgelist, encoding='ascii'))"
   ]
  },
  {
   "cell_type": "code",
   "execution_count": 19,
   "metadata": {},
   "outputs": [],
   "source": [
    "((source_C, source_nodes), (target_C_hat, target_nodes), landmark_idxs, homolog_idxs) = \\\n",
    "    handl.handl_embed_graphs(G[source], G[target], list(zip(source_homs, target_homs)), 400, lam=0.05, return_idxs=True)"
   ]
  },
  {
   "cell_type": "code",
   "execution_count": 21,
   "metadata": {},
   "outputs": [
    {
     "data": {
      "image/png": "[encoded data removed]",
      "text/plain": [
       "<matplotlib.figure.Figure at 0x7f3d7ddeb2e8>"
      ]
     },
     "metadata": {},
     "output_type": "display_data"
    }
   ],
   "source": [
    "D_xs = source_C.dot(target_C_hat.T)\n",
    "Dissim3 = 1./D_xs\n",
    "Dissim3 = Dissim3 / np.mean(Dissim3)\n",
    "s_l_idxs, t_l_idxs = zip(*landmark_idxs)\n",
    "s_nlh_idxs, t_nlh_idxs = zip(*homolog_idxs)\n",
    "NLH3, Dissim3 = seperate_dissimilarity_scores(\n",
    "                Dissim3, \n",
    "                source_landmark_indices,\n",
    "                source_non_landmark_indices,\n",
    "                target_landmark_indices,\n",
    "                target_non_landmark_indices)\n",
    "plot(NLH3, Dissim3)"
   ]
  },
  {
   "cell_type": "code",
   "execution_count": null,
   "metadata": {},
   "outputs": [],
   "source": []
  }
 ],
 "metadata": {
  "kernelspec": {
   "display_name": "Python 3",
   "language": "python",
   "name": "python3"
  },
  "language_info": {
   "codemirror_mode": {
    "name": "ipython",
    "version": 3
   },
   "file_extension": ".py",
   "mimetype": "text/x-python",
   "name": "python",
   "nbconvert_exporter": "python",
   "pygments_lexer": "ipython3",
   "version": "3.6.4"
  }
 },
 "nbformat": 4,
 "nbformat_minor": 2
}
