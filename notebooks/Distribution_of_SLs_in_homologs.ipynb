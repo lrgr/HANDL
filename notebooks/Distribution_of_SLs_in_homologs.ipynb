{
 "cells": [
  {
   "cell_type": "code",
   "execution_count": 1,
   "metadata": {},
   "outputs": [],
   "source": [
    "import os, sys\n",
    "sys.path.append(os.getcwd() + \"/../src\")\n",
    "\n",
    "%load_ext autoreload\n",
    "%autoreload 2"
   ]
  },
  {
   "cell_type": "code",
   "execution_count": 2,
   "metadata": {},
   "outputs": [],
   "source": [
    "import pandas as pd\n",
    "import util\n",
    "import networkx as nx\n",
    "import handl\n",
    "import random"
   ]
  },
  {
   "cell_type": "code",
   "execution_count": 3,
   "metadata": {},
   "outputs": [],
   "source": [
    "homologs_path = \"../data/homologs/sc-sp/sp-sc-homologs.txt\" \n",
    "sp_ppi_path = \"../data/ppi/biogrid/sp/sp-biogrid.v3.4.157-ppi-std.tsv\" \n",
    "sc_ppi_path = \"../data/ppi/biogrid/sc/sc-biogrid.v3.4.157-ppi-std.tsv\" \n",
    "sc_G = util.simple_two_core(nx.read_edgelist(sc_ppi_path, encoding='ascii'), verbose=False)\n",
    "sp_G = util.simple_two_core(nx.read_edgelist(sp_ppi_path, encoding='ascii'), verbose=False)\n",
    "homologs = handl.homologs_in_graphs(sp_G, sc_G, util.read_homolog_list(homologs_path))\n"
   ]
  },
  {
   "cell_type": "code",
   "execution_count": 4,
   "metadata": {},
   "outputs": [],
   "source": [
    "random.shuffle(homologs)\n",
    "sp_homs, sc_homs = zip(*homologs)\n",
    "sp_nodes, sc_nodes = list(sorted(sp_G.nodes())), list(sorted(sc_G.nodes()))"
   ]
  },
  {
   "cell_type": "code",
   "execution_count": 5,
   "metadata": {},
   "outputs": [],
   "source": [
    "n_landmarks = 400"
   ]
  },
  {
   "cell_type": "code",
   "execution_count": 6,
   "metadata": {},
   "outputs": [],
   "source": [
    "def load_sls(fp):\n",
    "    return pd.read_csv(fp, sep='\\t', dtype={'Gene A': str, 'Gene B': str, 'Score': float})\n",
    "def pair2outcome(df):\n",
    "    INCONCLUSIVE = 'Inconclusive'\n",
    "    return dict( (frozenset([u, v]), c) for u, v, c in zip(df['Gene A'], df['Gene B'], df['Category']) if c != INCONCLUSIVE )"
   ]
  },
  {
   "cell_type": "code",
   "execution_count": 7,
   "metadata": {},
   "outputs": [],
   "source": [
    "def summary_statistics(homs, pair2outcome, nodes, exclude=set()):\n",
    "    assert(isinstance(homs, set))\n",
    "    SL = 'SL'\n",
    "    NON_SL = 'Non-SL'\n",
    "    n_self_pairs = 0\n",
    "    n_0hom_SLs, n_0hom_non_SLs = 0, 0\n",
    "    n_1hom_SLs, n_1hom_non_SLs = 0, 0\n",
    "    n_2hom_SLs, n_2hom_non_SLs = 0, 0\n",
    "    for pair, outcome in pair2outcome.items():\n",
    "        pairs = [p for p in pair]\n",
    "        if len(pairs) != 2: \n",
    "            n_self_pairs += 1\n",
    "            continue\n",
    "        p1, p2 = pairs\n",
    "        \n",
    "        # skip if ps are not in nodes or are in exclude set\n",
    "        if (p1 not in nodes or p2 not in nodes): continue\n",
    "        if (p1 in exclude or p2 in exclude): continue\n",
    "        \n",
    "        if p1 in homs and p2 in homs:\n",
    "            if outcome == SL: n_2hom_SLs += 1\n",
    "            else: n_2hom_non_SLs += 1\n",
    "        elif (p1 in homs) ^ (p2 in homs):\n",
    "            if outcome == SL: n_1hom_SLs += 1\n",
    "            else: n_1hom_non_SLs += 1\n",
    "        else:\n",
    "            if outcome == SL: n_0hom_SLs += 1\n",
    "            else: n_0hom_non_SLs += 1\n",
    "    print('Self pairs:', n_self_pairs)\n",
    "    return n_0hom_SLs, n_0hom_non_SLs,\\\n",
    "            n_1hom_SLs, n_1hom_non_SLs,\\\n",
    "            n_2hom_SLs, n_2hom_non_SLs,\\\n",
    "            n_0hom_SLs + n_1hom_SLs + n_2hom_SLs, \\\n",
    "            n_0hom_non_SLs + n_1hom_non_SLs + n_2hom_non_SLs,\n",
    "        "
   ]
  },
  {
   "cell_type": "markdown",
   "metadata": {},
   "source": [
    "### Collins\n",
    "Collins SL data"
   ]
  },
  {
   "cell_type": "code",
   "execution_count": 8,
   "metadata": {},
   "outputs": [
    {
     "name": "stdout",
     "output_type": "stream",
     "text": [
      "Self pairs: 2\n",
      "(4125, '# 0 hom SLs')\n",
      "(81806, '# 0 hom non SLs')\n",
      "(2545, '# 1 hom SLs')\n",
      "(36605, '#1 hom non SLs')\n",
      "(442, '# 2 hom SLs')\n",
      "(3862, '#2 hom non SLs')\n",
      "(7112, '# total SLs')\n",
      "(122273, '# total non SLs')\n"
     ]
    }
   ],
   "source": [
    "#print(len(collins_pair2outcome))\n",
    "collins_fp = '../data/gi/collins/sc/collins-sc-emap-gis-std.tsv'\n",
    "collins_df = load_sls(collins_fp)\n",
    "collins_pair2outcome = pair2outcome(collins_df)\n",
    "collins_results = list(zip(summary_statistics(set(sc_homs), collins_pair2outcome, set(sc_nodes)), \n",
    "                      ['# 0 hom SLs', '# 0 hom non SLs','# 1 hom SLs',\n",
    "                       '#1 hom non SLs','# 2 hom SLs', '#2 hom non SLs',\n",
    "                       '# total SLs', '# total non SLs']))\n",
    "\n",
    "for r in collins_results: print(r)"
   ]
  },
  {
   "cell_type": "markdown",
   "metadata": {},
   "source": [
    "Collins SL Data minus 400 landmarks"
   ]
  },
  {
   "cell_type": "code",
   "execution_count": 9,
   "metadata": {},
   "outputs": [
    {
     "name": "stdout",
     "output_type": "stream",
     "text": [
      "Self pairs: 2\n",
      "(4125, '# 0 hom SLs')\n",
      "(81806, '# 0 hom non SLs')\n",
      "(1434, '# 1 hom SLs')\n",
      "(20691, '#1 hom non SLs')\n",
      "(120, '# 2 hom SLs')\n",
      "(1262, '#2 hom non SLs')\n",
      "(5679, '# total SLs')\n",
      "(103759, '# total non SLs')\n"
     ]
    }
   ],
   "source": [
    "#print(len(collins_pair2outcome))\n",
    "collins_fp = '../data/gi/collins/sc/collins-sc-emap-gis-std.tsv'\n",
    "collins_df = load_sls(collins_fp)\n",
    "collins_pair2outcome = pair2outcome(collins_df)\n",
    "collins_results = list(zip(summary_statistics(set(sc_homs), collins_pair2outcome, set(sc_nodes), set(sc_homs[:400])), \n",
    "                      ['# 0 hom SLs', '# 0 hom non SLs','# 1 hom SLs',\n",
    "                       '#1 hom non SLs','# 2 hom SLs', '#2 hom non SLs',\n",
    "                       '# total SLs', '# total non SLs']))\n",
    "\n",
    "for r in collins_results: print(r)"
   ]
  },
  {
   "cell_type": "markdown",
   "metadata": {},
   "source": [
    "### Roguev"
   ]
  },
  {
   "cell_type": "code",
   "execution_count": 10,
   "metadata": {},
   "outputs": [
    {
     "name": "stdout",
     "output_type": "stream",
     "text": [
      "Self pairs: 2\n",
      "(1102, '# 0 hom SLs')\n",
      "(9633, '# 0 hom non SLs')\n",
      "(1164, '# 1 hom SLs')\n",
      "(9645, '#1 hom non SLs')\n",
      "(290, '# 2 hom SLs')\n",
      "(2380, '#2 hom non SLs')\n",
      "(2556, '# total SLs')\n",
      "(21658, '# total non SLs')\n"
     ]
    }
   ],
   "source": [
    "roguev_fp = '../data/gi/roguev/sp/roguev-sp-emap-gis-std.tsv'\n",
    "roguev_df = load_sls(roguev_fp)\n",
    "roguev_pair2outcome = pair2outcome(roguev_df)\n",
    "roguev_results = list(zip(summary_statistics(set(sp_homs), roguev_pair2outcome, set(sp_nodes)), \n",
    "                      ['# 0 hom SLs', '# 0 hom non SLs','# 1 hom SLs',\n",
    "                       '#1 hom non SLs','# 2 hom SLs', '#2 hom non SLs',\n",
    "                       '# total SLs', '# total non SLs']))\n",
    "\n",
    "for r in roguev_results: print(r)"
   ]
  },
  {
   "cell_type": "code",
   "execution_count": 11,
   "metadata": {},
   "outputs": [
    {
     "name": "stdout",
     "output_type": "stream",
     "text": [
      "Self pairs: 2\n",
      "(1102, '# 0 hom SLs')\n",
      "(9633, '# 0 hom non SLs')\n",
      "(644, '# 1 hom SLs')\n",
      "(5674, '#1 hom non SLs')\n",
      "(107, '# 2 hom SLs')\n",
      "(812, '#2 hom non SLs')\n",
      "(1853, '# total SLs')\n",
      "(16119, '# total non SLs')\n"
     ]
    }
   ],
   "source": [
    "roguev_fp = '../data/gi/roguev/sp/roguev-sp-emap-gis-std.tsv'\n",
    "roguev_df = load_sls(roguev_fp)\n",
    "roguev_pair2outcome = pair2outcome(roguev_df)\n",
    "roguev_results = list(zip(summary_statistics(set(sp_homs), roguev_pair2outcome, set(sp_nodes),set(sp_homs[:400])), \n",
    "                      ['# 0 hom SLs', '# 0 hom non SLs','# 1 hom SLs',\n",
    "                       '#1 hom non SLs','# 2 hom SLs', '#2 hom non SLs',\n",
    "                       '# total SLs', '# total non SLs']))\n",
    "\n",
    "for r in roguev_results: print(r)"
   ]
  },
  {
   "cell_type": "markdown",
   "metadata": {},
   "source": [
    "### Biogrid Sp V3.4"
   ]
  },
  {
   "cell_type": "code",
   "execution_count": 13,
   "metadata": {},
   "outputs": [
    {
     "name": "stdout",
     "output_type": "stream",
     "text": [
      "Self pairs: 1\n",
      "(241, '# 0 hom SLs')\n",
      "(0, '# 0 hom non SLs')\n",
      "(292, '# 1 hom SLs')\n",
      "(0, '#1 hom non SLs')\n",
      "(125, '# 2 hom SLs')\n",
      "(0, '#2 hom non SLs')\n",
      "(658, '# total SLs')\n",
      "(0, '# total non SLs')\n"
     ]
    }
   ],
   "source": [
    "biogrid_sp_fp = '../data/gi/biogrid/sp/sp-biogrid.v3.4.157-sls-std.tsv'\n",
    "biogrid_sp_df = load_sls(biogrid_sp_fp)\n",
    "biogrid_sp_pair2outcome = pair2outcome(biogrid_sp_df)\n",
    "biogrid_sp_results = list(zip(summary_statistics(set(sp_homs), biogrid_sp_pair2outcome, set(sp_nodes)), \n",
    "                      ['# 0 hom SLs', '# 0 hom non SLs','# 1 hom SLs',\n",
    "                       '#1 hom non SLs','# 2 hom SLs', '#2 hom non SLs',\n",
    "                       '# total SLs', '# total non SLs']))\n",
    "\n",
    "for r in biogrid_sp_results: print(r)"
   ]
  },
  {
   "cell_type": "code",
   "execution_count": 14,
   "metadata": {},
   "outputs": [
    {
     "name": "stdout",
     "output_type": "stream",
     "text": [
      "Self pairs: 1\n",
      "(150, '# 0 hom SLs')\n",
      "(0, '# 0 hom non SLs')\n",
      "(231, '# 1 hom SLs')\n",
      "(0, '#1 hom non SLs')\n",
      "(103, '# 2 hom SLs')\n",
      "(0, '#2 hom non SLs')\n",
      "(484, '# total SLs')\n",
      "(0, '# total non SLs')\n"
     ]
    }
   ],
   "source": [
    "biogrid_sp_fp = '../data/gi/biogrid/sp/sp-biogrid.v3.4.157-sls-std.tsv'\n",
    "biogrid_sp_df = load_sls(biogrid_sp_fp)\n",
    "biogrid_sp_pair2outcome = pair2outcome(biogrid_sp_df)\n",
    "biogrid_sp_results = list(zip(summary_statistics(set(sp_homs), biogrid_sp_pair2outcome, set(sp_nodes), set(sp_nodes[:400])), \n",
    "                      ['# 0 hom SLs', '# 0 hom non SLs','# 1 hom SLs',\n",
    "                       '#1 hom non SLs','# 2 hom SLs', '#2 hom non SLs',\n",
    "                       '# total SLs', '# total non SLs']))\n",
    "\n",
    "for r in biogrid_sp_results: print(r)"
   ]
  },
  {
   "cell_type": "code",
   "execution_count": 16,
   "metadata": {},
   "outputs": [
    {
     "name": "stdout",
     "output_type": "stream",
     "text": [
      "Self pairs: 4\n",
      "(6021, '# 0 hom SLs')\n",
      "(0, '# 0 hom non SLs')\n",
      "(6124, '# 1 hom SLs')\n",
      "(0, '#1 hom non SLs')\n",
      "(1380, '# 2 hom SLs')\n",
      "(0, '#2 hom non SLs')\n",
      "(13525, '# total SLs')\n",
      "(0, '# total non SLs')\n"
     ]
    }
   ],
   "source": [
    "biogrid_sc_fp = '../data/gi/biogrid/sc/sc-biogrid.v3.4.157-sls-std.tsv'\n",
    "biogrid_sc_df = load_sls(biogrid_sc_fp)\n",
    "biogrid_sc_pair2outcome = pair2outcome(biogrid_sc_df)\n",
    "biogrid_sc_results = list(zip(summary_statistics(set(sc_homs), biogrid_sc_pair2outcome, set(sc_nodes)), \n",
    "                      ['# 0 hom SLs', '# 0 hom non SLs','# 1 hom SLs',\n",
    "                       '#1 hom non SLs','# 2 hom SLs', '#2 hom non SLs',\n",
    "                       '# total SLs', '# total non SLs']))\n",
    "\n",
    "for r in biogrid_sc_results: print(r)"
   ]
  },
  {
   "cell_type": "code",
   "execution_count": 17,
   "metadata": {},
   "outputs": [
    {
     "name": "stdout",
     "output_type": "stream",
     "text": [
      "Self pairs: 4\n",
      "(5242, '# 0 hom SLs')\n",
      "(0, '# 0 hom non SLs')\n",
      "(5357, '# 1 hom SLs')\n",
      "(0, '#1 hom non SLs')\n",
      "(1132, '# 2 hom SLs')\n",
      "(0, '#2 hom non SLs')\n",
      "(11731, '# total SLs')\n",
      "(0, '# total non SLs')\n"
     ]
    }
   ],
   "source": [
    "biogrid_sc_fp = '../data/gi/biogrid/sc/sc-biogrid.v3.4.157-sls-std.tsv'\n",
    "biogrid_sc_df = load_sls(biogrid_sc_fp)\n",
    "biogrid_sc_pair2outcome = pair2outcome(biogrid_sc_df)\n",
    "biogrid_sc_results = list(zip(summary_statistics(set(sc_homs), biogrid_sc_pair2outcome, set(sc_nodes), set(sc_nodes[:400])), \n",
    "                      ['# 0 hom SLs', '# 0 hom non SLs','# 1 hom SLs',\n",
    "                       '#1 hom non SLs','# 2 hom SLs', '#2 hom non SLs',\n",
    "                       '# total SLs', '# total non SLs']))\n",
    "\n",
    "for r in biogrid_sc_results: print(r)"
   ]
  },
  {
   "cell_type": "code",
   "execution_count": 21,
   "metadata": {},
   "outputs": [],
   "source": [
    "def sl_data_homologs(A_df, B_df, homologs):\n",
    "    INCONCLUSIVE = 'Inconclusive'\n",
    "    A_pairs = [(u,v) for u, v, c in zip(A_df['Gene A'], A_df['Gene B'], A_df['Category']) if c != INCONCLUSIVE ]\n",
    "    B_pairs = [(u,v) for u, v, c in zip(B_df['Gene A'], B_df['Gene B'], B_df['Category']) if c != INCONCLUSIVE ]\n",
    "    A1_genes, A2_genes = zip(*A_pairs)\n",
    "    A_genes = set(A1_genes) | set(A2_genes)\n",
    "    B1_genes, B2_genes = zip(*B_pairs)\n",
    "    B_genes = set(B1_genes) | set(B2_genes)\n",
    "    \n",
    "    homs = [ (u,v) for u, v in homologs if u not in A_genes and v not in B_genes] \n",
    "    return homs\n",
    "    "
   ]
  },
  {
   "cell_type": "code",
   "execution_count": 35,
   "metadata": {},
   "outputs": [],
   "source": [
    "biogrid_homs = sl_data_homologs(biogrid_sp_df, biogrid_sc_df, homologs)\n",
    "collins_roguev_homs = sl_data_homologs(roguev_df, collins_df, homologs)"
   ]
  },
  {
   "cell_type": "code",
   "execution_count": 36,
   "metadata": {},
   "outputs": [
    {
     "name": "stdout",
     "output_type": "stream",
     "text": [
      "123\n",
      "625\n"
     ]
    }
   ],
   "source": [
    "print(len(biogrid_homs))\n",
    "print(len(collins_roguev_homs))"
   ]
  },
  {
   "cell_type": "code",
   "execution_count": 37,
   "metadata": {},
   "outputs": [
    {
     "data": {
      "text/plain": [
       "775"
      ]
     },
     "execution_count": 37,
     "metadata": {},
     "output_type": "execute_result"
    }
   ],
   "source": [
    "len(homologs)"
   ]
  },
  {
   "cell_type": "code",
   "execution_count": 43,
   "metadata": {},
   "outputs": [],
   "source": [
    "def sl_data_genes(df):\n",
    "    INCONCLUSIVE = 'Inconclusive'\n",
    "    A_pairs = [(u,v) for u, v, c in zip(df['Gene A'], df['Gene B'], df['Category']) if c != INCONCLUSIVE ]\n",
    "    A1_genes, A2_genes = zip(*A_pairs)\n",
    "    A_genes = set(A1_genes) | set(A2_genes)\n",
    "    return A_genes"
   ]
  },
  {
   "cell_type": "code",
   "execution_count": 44,
   "metadata": {},
   "outputs": [
    {
     "data": {
      "text/plain": [
       "661"
      ]
     },
     "execution_count": 44,
     "metadata": {},
     "output_type": "execute_result"
    }
   ],
   "source": [
    "len(sl_data_genes(collins_df))"
   ]
  },
  {
   "cell_type": "code",
   "execution_count": 45,
   "metadata": {},
   "outputs": [
    {
     "data": {
      "text/plain": [
       "540"
      ]
     },
     "execution_count": 45,
     "metadata": {},
     "output_type": "execute_result"
    }
   ],
   "source": [
    "len(sl_data_genes(roguev_df))"
   ]
  },
  {
   "cell_type": "code",
   "execution_count": 46,
   "metadata": {},
   "outputs": [
    {
     "data": {
      "text/plain": [
       "3507"
      ]
     },
     "execution_count": 46,
     "metadata": {},
     "output_type": "execute_result"
    }
   ],
   "source": [
    "len(sl_data_genes(biogrid_sc_df))"
   ]
  },
  {
   "cell_type": "code",
   "execution_count": 47,
   "metadata": {},
   "outputs": [
    {
     "data": {
      "text/plain": [
       "531"
      ]
     },
     "execution_count": 47,
     "metadata": {},
     "output_type": "execute_result"
    }
   ],
   "source": [
    "len(sl_data_genes(biogrid_sp_df))"
   ]
  },
  {
   "cell_type": "code",
   "execution_count": null,
   "metadata": {},
   "outputs": [],
   "source": []
  }
 ],
 "metadata": {
  "kernelspec": {
   "display_name": "Python 3",
   "language": "python",
   "name": "python3"
  },
  "language_info": {
   "codemirror_mode": {
    "name": "ipython",
    "version": 3
   },
   "file_extension": ".py",
   "mimetype": "text/x-python",
   "name": "python",
   "nbconvert_exporter": "python",
   "pygments_lexer": "ipython3",
   "version": "3.6.4"
  }
 },
 "nbformat": 4,
 "nbformat_minor": 2
}
