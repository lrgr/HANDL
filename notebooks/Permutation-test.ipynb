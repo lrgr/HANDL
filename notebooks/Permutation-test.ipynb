{
 "cells": [
  {
   "cell_type": "markdown",
   "metadata": {},
   "source": [
    "# HANDL - Permutation Tests\n",
    "\n",
    "The goal of HANDL is to support the transfer of biological knowledge across species.  It does so by constructing explicit measures of functional similarity between proteins in different species.   HANDL (Homology Assessment across Networks using Diffusion and Landmarks) creates a functional embedding in which proteins from different species are embedded in the same vector space. In the paper [1] it is shown that inner products in this space _(HANDL homology scores)_, as well as the vectors themselves _(HANDL embeddings)_, capture functional similarity across species and are useful for a variety of functional tasks.\n",
    "\n",
    "[1] [A Multi-Species Functional Embedding Integrating Sequence and\n",
    "Network Structure](https://www.biorxiv.org/content/early/2017/12/04/229211), Mark D.M. Leiserson, Jason Fan, Anthony Cannistra, Inbar Fried, Tim Lim, Thomas Schaffner, Mark Crovella, and Benjamin Hescott, _Proceedings of RECOMB 2018,_ Paris, France.\n",
    "\n",
    "## Background\n",
    "\n",
    "An overview of HANDL is shown in the figure below.  Starting with a source and a target network, HANDL computes diffusion kernels for each network. The diffusion kernels are factored, resulting in a representation in which each node becomes a vector, and inner products correlate with functional similarities. HANDL then solves a linear system to create a single embedding of both vector sets, allowing for functional comparisons between proteins across the two networks.\n",
    "\n",
    "![HANDL Overview](figures/handl-methods.jpg)\n",
    "\n",
    "As shown in the figure, HANDL works with the notion of a _source_ species and one or more _target_ species.  The proteins of the target species are embedded into a space defined by the source species.\n",
    "\n",
    "## Permutation test\n",
    "\n",
    "todo: lorem ipsum"
   ]
  },
  {
   "cell_type": "markdown",
   "metadata": {},
   "source": [
    "Let's first import the required python modules and perform some setup"
   ]
  },
  {
   "cell_type": "code",
   "execution_count": 1,
   "metadata": {},
   "outputs": [],
   "source": [
    "import matplotlib.pyplot as plt\n",
    "%matplotlib inline\n",
    "\n",
    "import os, sys\n",
    "sys.path.append(os.getcwd() + \"/../src\")\n",
    "\n",
    "%load_ext autoreload\n",
    "%autoreload 2"
   ]
  },
  {
   "cell_type": "code",
   "execution_count": 2,
   "metadata": {},
   "outputs": [],
   "source": [
    "import networkx as nx\n",
    "import numpy as np\n",
    "import handl\n",
    "import util\n",
    "from collections import defaultdict"
   ]
  },
  {
   "cell_type": "markdown",
   "metadata": {},
   "source": [
    "# Random psuedograph model\n",
    "\n",
    "To generate random graphs conditioned on degree sequences, we use NetworkX to generate random psuedographs (graphs with self loops and parallel edges) with an algorithm from M.E.J. Newman (“The structure and function of complex networks”, SIAM REVIEW 45-2, pp 167-256, 2003).\n",
    "\n",
    "Notice that the generated graphs are not necessarily connected. We will use this random graph generation model as a heuristic for our permutation test."
   ]
  },
  {
   "cell_type": "code",
   "execution_count": 3,
   "metadata": {},
   "outputs": [
    {
     "data": {
      "image/png": "[encoded data removed]",
      "text/plain": [
       "<matplotlib.figure.Figure at 0x7fb0959a7438>"
      ]
     },
     "metadata": {},
     "output_type": "display_data"
    }
   ],
   "source": [
    "def draw(G):\n",
    "    nx.draw(G, node_shape='.', node_size=3, width=0.1)\n",
    "def draw_random1():\n",
    "    degree_sequence = [1,3,2,3,2,1]\n",
    "    G = nx.configuration_model(degree_sequence)\n",
    "    draw(G)\n",
    "draw_random1()"
   ]
  },
  {
   "cell_type": "markdown",
   "metadata": {},
   "source": [
    "# Permutation test with S.c and S.p Protein-protein Interaction Networks\n",
    "\n",
    "We first load the interaction networks from their edgelists."
   ]
  },
  {
   "cell_type": "code",
   "execution_count": 4,
   "metadata": {},
   "outputs": [],
   "source": [
    "sp_ppi_path = \"../data/ppi/biogrid/sp/sp-biogrid.v3.4.157-ppi-std.tsv\" \n",
    "sc_ppi_path = \"../data/ppi/biogrid/sc/sc-biogrid.v3.4.157-ppi-std.tsv\" \n",
    "sc_G = util.simple_two_core(nx.read_edgelist(sp_ppi_path, encoding='ascii'), verbose=False)\n",
    "sp_G = util.simple_two_core(nx.read_edgelist(sc_ppi_path, encoding='ascii'), verbose=False)"
   ]
  },
  {
   "cell_type": "markdown",
   "metadata": {},
   "source": [
    "We can draw the _S.p_ PPI network just for fun"
   ]
  },
  {
   "cell_type": "code",
   "execution_count": 5,
   "metadata": {},
   "outputs": [],
   "source": [
    "#draw(sp_G)"
   ]
  },
  {
   "cell_type": "markdown",
   "metadata": {},
   "source": [
    "### Generating random graphs of 'fixed' (similar) degree sequence\n",
    "\n",
    "Given a seed graph $G$ we want to return a random graph $G'$ of the same size and same degree sequence as $G$.\n",
    "\n",
    "We could use an edge swapping algorithm to generate random graphs with fixed degree sequences but this algorithm is slow. Instead, we use a heuristic to generate random graphs with degree sequences \"close\" to what we would like by doing the following.\n",
    "\n",
    "Given a graph $G$ we do the following:\n",
    "0. Obtain degree sequence, $D$, from $G$, and shuffle it\n",
    "1. Generate psuedograph $G'$ using Newman's algorithm for generating psuedographs using $D$\n",
    "2. Remove self edges and collapse parallel edges in $G'$\n",
    "3. If $G'$ and $G$ have the same nodes, return $G'$\n",
    "4. Else, go to 1.\n",
    "\n",
    "Notice that step 2. might remove nodes from $G'$. To ensure that the returned graph $G'$ and $G$ have the same nodes, we simply repeat the graph generation algorithm until no nodes are removed in step 2."
   ]
  },
  {
   "cell_type": "code",
   "execution_count": 6,
   "metadata": {},
   "outputs": [],
   "source": [
    "def perturbed_graph(seed_graph):\n",
    "    ''' Returns random graph with approximately the same degree distribution as given seed graph'''\n",
    "    # Generate new graph with given degree sequence\n",
    "    deg_sequence = shuffle(list(seed_graph.degree))\n",
    "    new_G = nx.configuration_model(list(zip(*deg_sequence))[1])\n",
    "    \n",
    "    # Rename graph with nodes in seed_graph with corresponding degrees\n",
    "    deg2names = get_degree_to_names(deg_sequence)\n",
    "    mapping = get_degree_preserving_relabelling(deg2names, new_G)\n",
    "    new_G = nx.relabel_nodes(new_G, mapping)\n",
    "    \n",
    "    # Remove self loops and parallel edges and return\n",
    "    return nx.Graph(new_G)\n",
    "\n",
    "def safe_perturbed_graph(seed_graph, n_tries=10):\n",
    "    ''' \n",
    "    Returns random graph with approximately the same degree distribution as given seed graph.\n",
    "    \n",
    "    NB: This function either returns a graph with the same number of nodes as the seed graph or throws an exception\n",
    "    '''\n",
    "    for i in range(n_tries):\n",
    "        new_G = perturbed_graph(seed_graph)\n",
    "        if len(not_shared_nodes(new_G, seed_graph)) == 0:\n",
    "            return new_G\n",
    "    raise Exception()\n",
    "    \n",
    "    \n",
    "# Some utility functions to help shuffle lists and rename nodes in random graphs\n",
    "def shuffle(arr):\n",
    "    ''' Copy and shuffle given list'''\n",
    "    arr_copy = arr[:]\n",
    "    np.random.shuffle(arr_copy)\n",
    "    return arr_copy\n",
    "\n",
    "def get_degree_to_names(tuples):\n",
    "    ''' Returns dictionary of degrees to node names from given list of (name, deg) tuples '''\n",
    "    d = defaultdict(list)\n",
    "    for  name, deg in tuples:\n",
    "        d[deg].append(name)\n",
    "    return d\n",
    "\n",
    "def get_degree_preserving_relabelling(new_name_dict, unlabeled_G):\n",
    "    ''' Returns name mapping given between degree to node names dictionary and unlabeled graph G'''\n",
    "    old_degree_dict = get_degree_to_names(unlabeled_G.degree)\n",
    "    mapping_tuples = []\n",
    "    for deg, new_names in new_name_dict.items():\n",
    "        old_names = old_degree_dict[deg]\n",
    "        mapping_tuples += (list(zip(old_names, shuffle(new_names))))\n",
    "    return dict(mapping_tuples)\n",
    "\n",
    "def not_shared_nodes(G1, G2):\n",
    "    return set(G1.nodes) ^ set(G2.nodes)"
   ]
  },
  {
   "cell_type": "markdown",
   "metadata": {},
   "source": [
    "We can now get random versions of the $S.c$ and $S.p$ PPI networks"
   ]
  },
  {
   "cell_type": "code",
   "execution_count": 7,
   "metadata": {},
   "outputs": [],
   "source": [
    "new_sp_G = safe_perturbed_graph(sp_G)\n",
    "new_sc_G = safe_perturbed_graph(sc_G)"
   ]
  },
  {
   "cell_type": "markdown",
   "metadata": {},
   "source": [
    "Moreover, we can perform some sanity checks and see that the random graphs do indeeed have the desired degree distribution \n",
    "* Qualitative: inspect that the degree distributions look the same\n",
    "* Quantitative: record the maximum and mean difference in degrees"
   ]
  },
  {
   "cell_type": "code",
   "execution_count": 8,
   "metadata": {},
   "outputs": [],
   "source": [
    "def degree_distribution(G1, G1_name, G2, G2_name):\n",
    "    f, (ax1, ax2) = plt.subplots(1, 2, sharey=True)\n",
    "    deg_sequence1 = list(G1.degree)\n",
    "    _, degrees1 = zip(*deg_sequence1)\n",
    "    hist1 = ax1.hist(degrees1,50, normed=1, facecolor='green', alpha=0.75)\n",
    "    ax1.set_title(\"{}\".format(G1_name))\n",
    "    deg_sequence2 = list(G2.degree)\n",
    "    _, degrees2 = zip(*deg_sequence2)\n",
    "    hist1 = ax2.hist(degrees2,50, normed=1, facecolor='green', alpha=0.75)\n",
    "    ax2.set_title(\"{}\".format(G2_name))\n"
   ]
  },
  {
   "cell_type": "code",
   "execution_count": 9,
   "metadata": {},
   "outputs": [
    {
     "data": {
      "image/png": "[encoded data removed]",
      "text/plain": [
       "<matplotlib.figure.Figure at 0x7fb0924c8518>"
      ]
     },
     "metadata": {},
     "output_type": "display_data"
    }
   ],
   "source": [
    "degree_distribution(sp_G,\"S.p\", new_sp_G, \"randomized S.p\")"
   ]
  },
  {
   "cell_type": "markdown",
   "metadata": {},
   "source": [
    "We can see that the degree distribution plots do indeed look similar... we can also quantify this and see that this is indeed small"
   ]
  },
  {
   "cell_type": "code",
   "execution_count": 10,
   "metadata": {},
   "outputs": [],
   "source": [
    "def degree_differences(G1, G2):\n",
    "    G1_degs = dict(G1.degree)\n",
    "    G2_degs = dict(G2.degree)\n",
    "    diffs = []\n",
    "    for node, deg1 in G1_degs.items():\n",
    "        diffs.append(deg1 - G2_degs[node])\n",
    "    return diffs"
   ]
  },
  {
   "cell_type": "code",
   "execution_count": 11,
   "metadata": {},
   "outputs": [
    {
     "name": "stdout",
     "output_type": "stream",
     "text": [
      "Mean difference in degrees: 3.0076662506685685\n"
     ]
    }
   ],
   "source": [
    "diffs = degree_differences(sp_G, new_sp_G)\n",
    "print(\"Mean difference in degrees:\", np.mean(diffs))"
   ]
  },
  {
   "cell_type": "markdown",
   "metadata": {},
   "source": [
    "### Running HANDL on real and random graphs\n",
    "\n",
    "We can now run HANDL on the real and randomized networks..."
   ]
  },
  {
   "cell_type": "code",
   "execution_count": 12,
   "metadata": {},
   "outputs": [],
   "source": [
    "# Load PPI and HOMOLOG data\n",
    "homologs_path = \"../data/homologs/sc-sp/sc-sp-homologs.txt\" \n",
    "homologs = handl.homologs_in_graphs(sp_G, sc_G, util.read_homolog_list(homologs_path))"
   ]
  },
  {
   "cell_type": "markdown",
   "metadata": {},
   "source": [
    "Let us first define some functions to help compute dissimilarity scores, remove landmarks, and separate homologs from non-homologs."
   ]
  },
  {
   "cell_type": "code",
   "execution_count": 13,
   "metadata": {},
   "outputs": [],
   "source": [
    "def seperate_dissimilarity_scores(dissim_scores, \n",
    "                                  landmark_pair_idxs, homolog_pair_idxs):\n",
    "    ''' Removes all pairs with at least one landmarks and separates homologs from non-homologs'''\n",
    "    source_landmark_idxs, target_landmark_idxs = zip(*landmark_pair_idxs)\n",
    "    source_homolog_idxs, target_homolog_idxs = zip(*homolog_pair_idxs)\n",
    "    landmark_mask = np.zeros_like(dissim_scores, dtype=bool)\n",
    "    \n",
    "    source_landmark_target_all_mask = np.zeros_like(dissim_scores, dtype=bool)\n",
    "    source_landmark_target_all_mask[source_landmark_idxs, :]  = True\n",
    "    source_all_target_landmark_mask = np.zeros_like(dissim_scores, dtype=bool)\n",
    "    source_all_target_landmark_mask[:, target_landmark_idxs]  = True\n",
    "    landmark_landmark_mask = np.zeros_like(dissim_scores, dtype=bool) \n",
    "    landmark_landmark_mask[source_landmark_idxs, target_landmark_idxs] = True\n",
    "    \n",
    "    # Obtain landmark-landmark pairs\n",
    "    L_L_diag_scores = dissim_scores[source_landmark_idxs, target_landmark_idxs]\n",
    "    \n",
    "    # Obtain landmark-landmark off diag pairs\n",
    "    L_L_off_diag_mask = np.logical_and(source_landmark_target_all_mask, source_all_target_landmark_mask)\n",
    "    L_L_off_diag_mask &= ~landmark_landmark_mask\n",
    "    L_L_off_diag_scores = dissim_scores[L_L_off_diag_mask]\n",
    "    \n",
    "    # Landmark - Non-landmark pairs\n",
    "    L_non_L_mask = source_landmark_target_all_mask ^ source_all_target_landmark_mask\n",
    "    L_non_L_scores = dissim_scores[L_non_L_mask]\n",
    "    \n",
    "    # Hom - Hom pairs\n",
    "    H_H_mask = np.zeros_like(dissim_scores, dtype=bool)\n",
    "    H_H_mask[source_homolog_idxs, target_homolog_idxs] = True\n",
    "    H_H_mask[source_landmark_idxs, target_landmark_idxs] = False\n",
    "    H_H_scores = dissim_scores[H_H_mask]\n",
    "    \n",
    "    # Obtain other scores\n",
    "    other_mask = np.ones_like(dissim_scores, dtype=np.bool)\n",
    "    other_mask &= ~(source_landmark_target_all_mask | source_all_target_landmark_mask | H_H_mask )\n",
    "    other_scores = dissim_scores[other_mask]\n",
    "    \n",
    "\n",
    "    return L_L_diag_scores,\\\n",
    "           L_L_off_diag_scores,\\\n",
    "           L_non_L_scores,\\\n",
    "           H_H_scores,\\\n",
    "            other_scores\n",
    "\n",
    "def handl_dissimilarity_scores(source_G, target_G, homologs):\n",
    "    # Calculate handl similarity scores\n",
    "    outputs = handl.handl_embed_graphs(source_G, target_G, homologs,n_landmarks=400, return_idxs=True)\n",
    "    ((source_C, source_nodes), (target_C_hat, target_nodes), landmark_idxs, homolog_idxs) = outputs\n",
    "    non_landmark_hom_idxs = set(homolog_idxs)  - set(landmark_idxs)\n",
    "    handl_similarity_scores = source_C.dot(target_C_hat.T)\n",
    "    dissimilarity_scores = 1. / handl_similarity_scores\n",
    "    dissimilarity_scores /= np.mean(dissimilarity_scores)\n",
    "    return dissimilarity_scores, landmark_idxs, homolog_idxs"
   ]
  },
  {
   "cell_type": "markdown",
   "metadata": {},
   "source": [
    "Let's also define a function that uses a kernel density estimator to plot the distribution of scores"
   ]
  },
  {
   "cell_type": "code",
   "execution_count": 14,
   "metadata": {},
   "outputs": [],
   "source": [
    "def plot(scores_and_labels, xmax=0.6, font_size=12, line_width=2):\n",
    "    from sklearn import neighbors\n",
    "\n",
    "    # create and save plot\n",
    "    plt.figure()\n",
    "    \n",
    "    # create kernel density estimator\n",
    "    kde = neighbors.KernelDensity(kernel='gaussian', bandwidth = xmax / 20.)\n",
    "    # need to add another dimension as required by sklearn\n",
    "    # arrays passed to kde must be 2-dimensional\n",
    "    X_plot = np.reshape(np.linspace(0, xmax, 500), (-1, 1))\n",
    "    for xs, label in scores_and_labels:\n",
    "        scores = np.ravel(xs) if len(xs) < 1e5 else np.random.choice(np.ravel(xs), int(1e5))\n",
    "        kde.fit(np.reshape(scores, (-1, 1)))\n",
    "        densities = kde.score_samples(X_plot)\n",
    "        plt.plot(X_plot[:,0], np.exp(densities), lw = line_width,\n",
    "                 label = label)\n",
    "    plt.ylabel('Density', size = font_size)\n",
    "    plt.xlabel('HANDL dissimilarity', size = font_size)\n",
    "    plt.legend(loc='best', fontsize = font_size)"
   ]
  },
  {
   "cell_type": "markdown",
   "metadata": {},
   "source": [
    "We can now compute the dissimilarity scores with respect to S.p to S.c HANDL embeddings."
   ]
  },
  {
   "cell_type": "code",
   "execution_count": 15,
   "metadata": {},
   "outputs": [],
   "source": [
    "dissimilarity_scores, landmark_idxs, homolog_idxs = \\\n",
    "    handl_dissimilarity_scores(sp_G, sc_G, homologs)"
   ]
  },
  {
   "cell_type": "markdown",
   "metadata": {},
   "source": [
    "We can then separate scores for homolog pairs form non-homolog pairs."
   ]
  },
  {
   "cell_type": "code",
   "execution_count": 16,
   "metadata": {},
   "outputs": [],
   "source": [
    "L_L_diag_scores,\\\n",
    "L_L_off_diag_scores,\\\n",
    "L_non_L_scores,\\\n",
    "H_H_scores,\\\n",
    "other_scores = \\\n",
    "    seperate_dissimilarity_scores(dissimilarity_scores, landmark_idxs, homolog_idxs)\n",
    "def n_elems(ndarray):\n",
    "    return ndarray.shape[0] * ndarray.shape[1]"
   ]
  },
  {
   "cell_type": "code",
   "execution_count": 17,
   "metadata": {},
   "outputs": [
    {
     "name": "stdout",
     "output_type": "stream",
     "text": [
      "10460785\n",
      "10460785\n"
     ]
    }
   ],
   "source": [
    "print(n_elems(dissimilarity_scores))\n",
    "print (len(L_L_diag_scores)+ \n",
    "       len(L_L_off_diag_scores) +\n",
    "       len(L_non_L_scores) +\n",
    "       len(H_H_scores) +\n",
    "       len(other_scores))"
   ]
  },
  {
   "cell_type": "markdown",
   "metadata": {},
   "source": [
    "And we can plot the results..."
   ]
  },
  {
   "cell_type": "code",
   "execution_count": 18,
   "metadata": {
    "scrolled": false
   },
   "outputs": [
    {
     "name": "stdout",
     "output_type": "stream",
     "text": [
      "Mean dissimilarity score for landmark - landmark diagonal pairs: 1.4858186817535465e-06\n",
      "Mean dissimilarity score for landmark - landmark off diagonal pairs: 14.551324067248617\n",
      "Mean dissimilarity score for landmark - non_landmark pairs: 1.6336978321849882\n",
      "Mean dissimilarity score for homologs pairs: 0.11552642767718543\n",
      "Mean dissimilarity score for other pairs: 0.4949711266643188\n"
     ]
    },
    {
     "data": {
      "image/png": "[encoded data removed]",
      "text/plain": [
       "<matplotlib.figure.Figure at 0x7fb0928129e8>"
      ]
     },
     "metadata": {},
     "output_type": "display_data"
    },
    {
     "data": {
      "image/png": "[encoded data removed]",
      "text/plain": [
       "<matplotlib.figure.Figure at 0x7fb092812400>"
      ]
     },
     "metadata": {},
     "output_type": "display_data"
    }
   ],
   "source": [
    "plot([(H_H_scores, \"Homolog pairs\"), \n",
    "      (L_L_off_diag_scores, \"Landmark-landmark off diagonal pairs\"),\n",
    "      (L_non_L_scores, \"Landmark - non-landmark pairs\"),\n",
    "      (other_scores, \"other scores\")])\n",
    "\n",
    "plot([(H_H_scores, \"Homolog pairs\"), \n",
    "      (other_scores, \"Other pairs\")])\n",
    "print('Mean dissimilarity score for landmark - landmark diagonal pairs:', np.mean(L_L_diag_scores))\n",
    "print('Mean dissimilarity score for landmark - landmark off diagonal pairs:', np.mean(L_L_off_diag_scores))\n",
    "print('Mean dissimilarity score for landmark - non_landmark pairs:', np.mean(L_non_L_scores))\n",
    "print('Mean dissimilarity score for homologs pairs:', np.mean(H_H_scores))\n",
    "print('Mean dissimilarity score for other pairs:', np.mean(other_scores))\n",
    "\n"
   ]
  },
  {
   "cell_type": "markdown",
   "metadata": {},
   "source": [
    "### We then repeat the above for random versions of S.c and S.p PPIs"
   ]
  },
  {
   "cell_type": "code",
   "execution_count": 19,
   "metadata": {},
   "outputs": [],
   "source": [
    "rand_dissims, rand_L_idxs, rand_H_idxs = \\\n",
    "    handl_dissimilarity_scores(new_sp_G, new_sc_G, homologs)"
   ]
  },
  {
   "cell_type": "code",
   "execution_count": 20,
   "metadata": {},
   "outputs": [
    {
     "name": "stdout",
     "output_type": "stream",
     "text": [
      "Mean dissimilarity score for landmark - landmark diagonal pairs: 5.210409891002608e-06\n",
      "Mean dissimilarity score for landmark - landmark off diagonal pairs: 2.977093331408097\n",
      "Mean dissimilarity score for landmark - non_landmark pairs: 0.6361691453475855\n",
      "Mean dissimilarity score for homologs pairs: 0.5385462361459368\n",
      "Mean dissimilarity score for other pairs: 1.0860081429054869\n"
     ]
    },
    {
     "data": {
      "image/png": "[encoded data removed]",
      "text/plain": [
       "<matplotlib.figure.Figure at 0x7fb0923420b8>"
      ]
     },
     "metadata": {},
     "output_type": "display_data"
    },
    {
     "data": {
      "image/png": "[encoded data removed]",
      "text/plain": [
       "<matplotlib.figure.Figure at 0x7fb092342198>"
      ]
     },
     "metadata": {},
     "output_type": "display_data"
    }
   ],
   "source": [
    "rand_L_L_diag_scores,\\\n",
    "rand_L_L_off_diag_scores,\\\n",
    "rand_L_non_L_scores,\\\n",
    "rand_H_H_scores,\\\n",
    "rand_other_scores = \\\n",
    "    seperate_dissimilarity_scores(rand_dissims, rand_L_idxs, rand_H_idxs)\n",
    "    \n",
    "plot([(rand_H_H_scores, \"Homolog pairs\"), \n",
    "      (rand_L_L_off_diag_scores, \"Landmark-landmark off diagonal pairs\"),\n",
    "      (rand_L_non_L_scores, \"Landmark - non-landmark pairs\"),\n",
    "      (rand_other_scores, \"other scores\")])\n",
    "\n",
    "plot([(rand_H_H_scores, \"Homolog pairs\"), \n",
    "      (rand_other_scores, \"Other pairs\")])\n",
    "print('Mean dissimilarity score for landmark - landmark diagonal pairs:', np.mean(rand_L_L_diag_scores))\n",
    "print('Mean dissimilarity score for landmark - landmark off diagonal pairs:', np.mean(rand_L_L_off_diag_scores))\n",
    "print('Mean dissimilarity score for landmark - non_landmark pairs:', np.mean(rand_L_non_L_scores))\n",
    "print('Mean dissimilarity score for homologs pairs:', np.mean(rand_H_H_scores))\n",
    "print('Mean dissimilarity score for other pairs:', np.mean(rand_other_scores))"
   ]
  },
  {
   "cell_type": "markdown",
   "metadata": {},
   "source": [
    "### Measuring the significance of actual HANDL dissimilarities\n",
    "\n",
    "To measure whether or not the observed difference in means from HANDL is signficant we perform a permutation test:\n",
    "\n",
    "Null hypothesis: There is no difference in means between HANDL dissimilarity scores of homologs and non-homologs (in random graphs conditioned on fixed degree distributions.)\n",
    "\n",
    "Permutation test:\n",
    "0. Compute actual difference in mean dissimilarity between homologs and non homologs, $\\delta$\n",
    "1. Generate N random pairs of graphs given real source and target PPI pair\n",
    "2. Compute HANDL dissimilarities for homologs and non-homologs\n",
    "3. Compute differences in means of dissimilarities for the N trials\n",
    "4. Count the number of differences in means in N trails that are less than $\\delta$, $M$\n",
    "5. Report p-value $\\frac M N$ with corresponding confidence interval.\n",
    "\n"
   ]
  },
  {
   "cell_type": "code",
   "execution_count": null,
   "metadata": {},
   "outputs": [],
   "source": [
    "n_permutations = 30"
   ]
  },
  {
   "cell_type": "code",
   "execution_count": null,
   "metadata": {},
   "outputs": [],
   "source": [
    "rand_sc_graphs = [safe_perturbed_graph(sc_G) for i in range(n_permutations)]\n",
    "rand_sp_graphs = [safe_perturbed_graph(sp_G) for i in range(n_permutations)]"
   ]
  },
  {
   "cell_type": "code",
   "execution_count": null,
   "metadata": {},
   "outputs": [],
   "source": [
    "means = [(np.mean(H_H_scores), np.mean(other_scores)) \n",
    "         for _,_,_, H_H_scores , other_scores in \n",
    "             [seperate_dissimilarity_scores(*handl_dissimilarity_scores(sp, sc, homologs)) \n",
    "              for sp, sc in zip(rand_sp_graphs, rand_sc_graphs)]]"
   ]
  },
  {
   "cell_type": "code",
   "execution_count": null,
   "metadata": {},
   "outputs": [],
   "source": [
    "diffs = [other_means - h_means for h_means, other_means in means]\n",
    "\n",
    "print(\"Mean difference in means for random graphs:\", np.mean(diffs))\n",
    "print(\"Difference in means for real graphs:\", np.mean(other_scores) - np.mean(H_H_scores))\n",
    "\n",
    "print('p-val count: ', np.sum(np.array(diffs) > (np.mean(other_scores) - np.mean(H_H_scores))))\n",
    "print('p-val: ', np.sum(np.array(diffs) > (np.mean(other_scores) - np.mean(H_H_scores))) / n_permutations)"
   ]
  },
  {
   "cell_type": "markdown",
   "metadata": {},
   "source": [
    "Effect size?"
   ]
  },
  {
   "cell_type": "code",
   "execution_count": null,
   "metadata": {},
   "outputs": [],
   "source": [
    "std = np.std(diffs)\n",
    "real_diff = np.mean(other_scores) - np.mean(H_H_scores)\n",
    "mean_random_diff = np.mean(diffs)\n",
    "effect_size = (real_diff - mean_random_diff) / std\n",
    "print('Effect size:', effect_size)\n",
    "print('Permutation test std:', std)"
   ]
  },
  {
   "cell_type": "markdown",
   "metadata": {},
   "source": [
    "### Some data exploration w.r.t homolog degree distributions..."
   ]
  },
  {
   "cell_type": "code",
   "execution_count": null,
   "metadata": {},
   "outputs": [],
   "source": [
    "sp_homs, sc_homs = list(zip(*homologs))"
   ]
  },
  {
   "cell_type": "code",
   "execution_count": null,
   "metadata": {},
   "outputs": [],
   "source": [
    "sp_hom_degrees = [deg for node, deg in sp_G.degree(sp_homs)]\n",
    "sc_hom_degrees = [deg for node, deg in sc_G.degree(sc_homs)]\n",
    "sp_degrees = [deg for node, deg in sp_G.degree if node not in set(sp_homs)]\n",
    "sc_degrees = [deg for node, deg in sc_G.degree if node not in set(sc_homs)]"
   ]
  },
  {
   "cell_type": "code",
   "execution_count": null,
   "metadata": {
    "scrolled": true
   },
   "outputs": [],
   "source": [
    "plot([(sp_hom_degrees, 'homolog_degrees'), (sc_degrees, 'non_homolog_degrees')], xmax=300)\n",
    "print('S.p: difference in homolog vs non-homolog mean degrees', np.mean(sp_hom_degrees) - np.mean(sp_degrees))\n",
    "\n",
    "plot([(sc_hom_degrees, 'homolog_degrees'), (sc_degrees, 'non_homolog_degrees')], xmax=300)\n",
    "print('S.c: difference in homolog vs non-homolog mean degrees', np.mean(sp_hom_degrees) - np.mean(sp_degrees))"
   ]
  }
 ],
 "metadata": {
  "kernelspec": {
   "display_name": "Python 3",
   "language": "python",
   "name": "python3"
  },
  "language_info": {
   "codemirror_mode": {
    "name": "ipython",
    "version": 3
   },
   "file_extension": ".py",
   "mimetype": "text/x-python",
   "name": "python",
   "nbconvert_exporter": "python",
   "pygments_lexer": "ipython3",
   "version": "3.6.4"
  },
  "widgets": {
   "application/vnd.jupyter.widget-state+json": {
    "state": {},
    "version_major": 2,
    "version_minor": 0
   }
  }
 },
 "nbformat": 4,
 "nbformat_minor": 2
}
