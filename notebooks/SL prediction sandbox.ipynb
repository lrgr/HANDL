{
 "cells": [
  {
   "cell_type": "code",
   "execution_count": null,
   "metadata": {},
   "outputs": [],
   "source": [
    "import matplotlib.pyplot as plt\n",
    "%matplotlib inline\n",
    "\n",
    "import os, sys\n",
    "sys.path.append(os.getcwd() + \"/../src\")\n",
    "\n",
    "%load_ext autoreload\n",
    "%autoreload 2\n",
    "\n",
    "import networkx as nx\n",
    "import numpy as np\n",
    "import handl\n",
    "import util\n",
    "from collections import defaultdict"
   ]
  },
  {
   "cell_type": "markdown",
   "metadata": {},
   "source": [
    "### Inputs to the experimental procedure:"
   ]
  },
  {
   "cell_type": "code",
   "execution_count": null,
   "metadata": {},
   "outputs": [],
   "source": [
    "source_SLs = ''\n",
    "target_SLs = ''\n",
    "source_ppi = ''\n",
    "target_ppi = ''\n",
    "homologs_fp = ''\n",
    "n_landmarks = 400\n",
    "source_lam = \n",
    "target_lam = "
   ]
  },
  {
   "cell_type": "markdown",
   "metadata": {},
   "source": []
  },
  {
   "cell_type": "code",
   "execution_count": null,
   "metadata": {},
   "outputs": [],
   "source": [
    "################################ START TEMPLATE CODE - DO NOT CHANGE ##################\n",
    "def non_landmark_idxs(n, landmark_idxs):\n",
    "    '''returns non landmark indices'''\n",
    "    return [i for i in range(n) if i not in set(landmark_idxs)]\n",
    "\n",
    "# Source and target Graphs\n",
    "source_G = util.simple_two_core(nx.read_edgelist(source_ppi, encoding='ascii'), verbose=False)\n",
    "target_G = util.simple_two_core(nx.read_edgelist(target_ppi, encoding='ascii'), verbose=False)\n",
    "source_n2i = dict((n,i) for i, n in enumerate(source_nodes))\n",
    "target_n2i = dict((n,i) for i, n in enumerate(target_nodes))\n",
    "\n",
    "# Homologs\n",
    "homologs = handl.homologs_in_graphs(source_G, target_G, util.read_homolog_list(homologs_path))\n",
    "homolog_idxs = [(source_n2i[s], target_n2i[t]) for (s,t) in homologs]\n",
    "\n",
    "# Nodes and indices\n",
    "source_nodes, target_nodes = sorted(source_G.nodes()), sorted(target_G.nodes())\n",
    "landmark_idxs = homolog_idxs[:n_landmarks]\n",
    "source_landmark_idxs, target_landmark_idxs = zip(*landmark_idxs)\n",
    "source_non_landmark_idxs = non_landmark_idxs(len(source_G), source_landmark_idxs)\n",
    "target_non_landmark_idxs = non_landmark_idxs(len(target_G), target_landmark_idxs)\n",
    "\n",
    "# RKHS and regularized laplacians\n",
    "source_D = handl.regularized_laplacian(source_G, source_nodes, source_lam)\n",
    "target_D = handl.regularized_laplacian(target_G, target_nodes, target_lam)\n",
    "source_C = handl.rkhs_factor(source_D)\n",
    "target_C = handl.rkhs_factor(target_D)\n",
    "\n",
    "################################ END TEMPLATE CODE - DO NOT CHANGE ##################\n"
   ]
  },
  {
   "cell_type": "code",
   "execution_count": 2,
   "metadata": {},
   "outputs": [],
   "source": [
    "#### Implement this function to perform normalization of C2_HAT\n",
    "def normalize(source_C, target_C_hat):\n",
    "    ### Implement normalization scheme here\n",
    "    # TODO\n",
    "    return source_C, target_C_hat\n",
    "\n",
    "# Assign source and target node features to SOURCE_X and TARGET_X variables!\n",
    "SOURCE_X, TARGET_X = source_C, target_C_hat\n"
   ]
  },
  {
   "cell_type": "code",
   "execution_count": null,
   "metadata": {},
   "outputs": [],
   "source": [
    "################################ START TEMPLATE CODE - DO NOT CHANGE ##################\n"
   ]
  }
 ],
 "metadata": {
  "kernelspec": {
   "display_name": "Python 3",
   "language": "python",
   "name": "python3"
  },
  "language_info": {
   "codemirror_mode": {
    "name": "ipython",
    "version": 3
   },
   "file_extension": ".py",
   "mimetype": "text/x-python",
   "name": "python",
   "nbconvert_exporter": "python",
   "pygments_lexer": "ipython3",
   "version": "3.6.4"
  }
 },
 "nbformat": 4,
 "nbformat_minor": 2
}
